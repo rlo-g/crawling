{
 "cells": [
  {
   "cell_type": "markdown",
   "id": "1f23ab02",
   "metadata": {},
   "source": [
    "# Selenium 라이브러리\n",
    " - 브라우저를 자동 제어하여 크롤링을 자동화 시키는 라이브러리\n",
    " - 동적 크롤링을 진행할 때 사용\n",
    " - 반드시 한 번 설치가 필요"
   ]
  },
  {
   "cell_type": "code",
   "execution_count": 2,
   "id": "a56ce3aa",
   "metadata": {
    "collapsed": true
   },
   "outputs": [
    {
     "name": "stdout",
     "output_type": "stream",
     "text": [
      "Requirement already satisfied: selenium in c:\\users\\gjaischool\\anaconda3\\lib\\site-packages (4.11.2)\n",
      "Requirement already satisfied: certifi>=2021.10.8 in c:\\users\\gjaischool\\anaconda3\\lib\\site-packages (from selenium) (2022.12.7)\n",
      "Requirement already satisfied: urllib3[socks]<3,>=1.26 in c:\\users\\gjaischool\\anaconda3\\lib\\site-packages (from selenium) (1.26.14)\n",
      "Requirement already satisfied: trio-websocket~=0.9 in c:\\users\\gjaischool\\anaconda3\\lib\\site-packages (from selenium) (0.10.3)\n",
      "Requirement already satisfied: trio~=0.17 in c:\\users\\gjaischool\\anaconda3\\lib\\site-packages (from selenium) (0.22.2)\n",
      "Requirement already satisfied: cffi>=1.14 in c:\\users\\gjaischool\\anaconda3\\lib\\site-packages (from trio~=0.17->selenium) (1.15.1)\n",
      "Requirement already satisfied: exceptiongroup>=1.0.0rc9 in c:\\users\\gjaischool\\anaconda3\\lib\\site-packages (from trio~=0.17->selenium) (1.1.3)\n",
      "Requirement already satisfied: sniffio in c:\\users\\gjaischool\\anaconda3\\lib\\site-packages (from trio~=0.17->selenium) (1.2.0)\n",
      "Requirement already satisfied: outcome in c:\\users\\gjaischool\\anaconda3\\lib\\site-packages (from trio~=0.17->selenium) (1.2.0)\n",
      "Requirement already satisfied: sortedcontainers in c:\\users\\gjaischool\\anaconda3\\lib\\site-packages (from trio~=0.17->selenium) (2.4.0)\n",
      "Requirement already satisfied: idna in c:\\users\\gjaischool\\anaconda3\\lib\\site-packages (from trio~=0.17->selenium) (3.4)\n",
      "Requirement already satisfied: attrs>=20.1.0 in c:\\users\\gjaischool\\anaconda3\\lib\\site-packages (from trio~=0.17->selenium) (22.1.0)\n",
      "Requirement already satisfied: wsproto>=0.14 in c:\\users\\gjaischool\\anaconda3\\lib\\site-packages (from trio-websocket~=0.9->selenium) (1.2.0)\n",
      "Requirement already satisfied: PySocks!=1.5.7,<2.0,>=1.5.6 in c:\\users\\gjaischool\\anaconda3\\lib\\site-packages (from urllib3[socks]<3,>=1.26->selenium) (1.7.1)\n",
      "Requirement already satisfied: pycparser in c:\\users\\gjaischool\\anaconda3\\lib\\site-packages (from cffi>=1.14->trio~=0.17->selenium) (2.21)\n",
      "Requirement already satisfied: h11<1,>=0.9.0 in c:\\users\\gjaischool\\anaconda3\\lib\\site-packages (from wsproto>=0.14->trio-websocket~=0.9->selenium) (0.14.0)\n"
     ]
    }
   ],
   "source": [
    "# 라이브러리 설치\n",
    "\n",
    "!pip install selenium"
   ]
  },
  {
   "cell_type": "code",
   "execution_count": 3,
   "id": "d63f266c",
   "metadata": {
    "collapsed": true
   },
   "outputs": [
    {
     "name": "stdout",
     "output_type": "stream",
     "text": [
      "Requirement already satisfied: selenium in c:\\users\\gjaischool\\anaconda3\\lib\\site-packages (4.11.2)\n",
      "Requirement already satisfied: trio~=0.17 in c:\\users\\gjaischool\\anaconda3\\lib\\site-packages (from selenium) (0.22.2)\n",
      "Requirement already satisfied: urllib3[socks]<3,>=1.26 in c:\\users\\gjaischool\\anaconda3\\lib\\site-packages (from selenium) (1.26.14)\n",
      "Requirement already satisfied: certifi>=2021.10.8 in c:\\users\\gjaischool\\anaconda3\\lib\\site-packages (from selenium) (2022.12.7)\n",
      "Requirement already satisfied: trio-websocket~=0.9 in c:\\users\\gjaischool\\anaconda3\\lib\\site-packages (from selenium) (0.10.3)\n",
      "Requirement already satisfied: sniffio in c:\\users\\gjaischool\\anaconda3\\lib\\site-packages (from trio~=0.17->selenium) (1.2.0)\n",
      "Requirement already satisfied: sortedcontainers in c:\\users\\gjaischool\\anaconda3\\lib\\site-packages (from trio~=0.17->selenium) (2.4.0)\n",
      "Requirement already satisfied: outcome in c:\\users\\gjaischool\\anaconda3\\lib\\site-packages (from trio~=0.17->selenium) (1.2.0)\n",
      "Requirement already satisfied: attrs>=20.1.0 in c:\\users\\gjaischool\\anaconda3\\lib\\site-packages (from trio~=0.17->selenium) (22.1.0)\n",
      "Requirement already satisfied: cffi>=1.14 in c:\\users\\gjaischool\\anaconda3\\lib\\site-packages (from trio~=0.17->selenium) (1.15.1)\n",
      "Requirement already satisfied: idna in c:\\users\\gjaischool\\anaconda3\\lib\\site-packages (from trio~=0.17->selenium) (3.4)\n",
      "Requirement already satisfied: exceptiongroup>=1.0.0rc9 in c:\\users\\gjaischool\\anaconda3\\lib\\site-packages (from trio~=0.17->selenium) (1.1.3)\n",
      "Requirement already satisfied: wsproto>=0.14 in c:\\users\\gjaischool\\anaconda3\\lib\\site-packages (from trio-websocket~=0.9->selenium) (1.2.0)\n",
      "Requirement already satisfied: PySocks!=1.5.7,<2.0,>=1.5.6 in c:\\users\\gjaischool\\anaconda3\\lib\\site-packages (from urllib3[socks]<3,>=1.26->selenium) (1.7.1)\n",
      "Requirement already satisfied: pycparser in c:\\users\\gjaischool\\anaconda3\\lib\\site-packages (from cffi>=1.14->trio~=0.17->selenium) (2.21)\n",
      "Requirement already satisfied: h11<1,>=0.9.0 in c:\\users\\gjaischool\\anaconda3\\lib\\site-packages (from wsproto>=0.14->trio-websocket~=0.9->selenium) (0.14.0)\n"
     ]
    }
   ],
   "source": [
    "# 셀레니움 최신 버전 업데이트\n",
    "\n",
    "!pip install -U selenium"
   ]
  },
  {
   "cell_type": "code",
   "execution_count": 4,
   "id": "015d4d12",
   "metadata": {},
   "outputs": [],
   "source": [
    "# 브라우저의 역할(제어)을 해주는 라이브러리 불러오기 (필수)\n",
    "from selenium import webdriver as wb\n",
    "\n",
    "# 컴퓨터용 키보드 불러오기\n",
    "from selenium.webdriver.common.keys import Keys\n",
    "\n",
    "# 선택자의 구분자 역할을 해주는 라이브러리 (필수)\n",
    "from selenium.webdriver.common.by import By"
   ]
  },
  {
   "cell_type": "code",
   "execution_count": 7,
   "id": "f3a593ce",
   "metadata": {},
   "outputs": [],
   "source": [
    "# 1. 크롬 창 실행\n",
    "\n",
    "driver = wb.Chrome()  # driver : 데이터를 갖고있는 주체가 됨"
   ]
  },
  {
   "cell_type": "code",
   "execution_count": 8,
   "id": "bca44904",
   "metadata": {},
   "outputs": [],
   "source": [
    "# 2. 특정 페이지로 이동(요청)\n",
    "\n",
    "driver.get(\"http://www.naver.com\")"
   ]
  },
  {
   "cell_type": "code",
   "execution_count": 16,
   "id": "8f7a6a10",
   "metadata": {},
   "outputs": [],
   "source": [
    "# 3. 검색창에 검색어를 입력\n",
    "# 3-1. 검색창의 위치를 알아온다 (태그 위치)\n",
    "# soup.elect(\"#query\") -> X\n",
    "\n",
    "search = driver.find_element(By.ID, \"query\")\n",
    "search.send_keys(\"광주\")      # 특정 요소에게 원하는 값을 보낼 때 사용"
   ]
  },
  {
   "cell_type": "code",
   "execution_count": 17,
   "id": "14f22863",
   "metadata": {},
   "outputs": [],
   "source": [
    "# 키보드의 값을 보낼 때는 keys 라이브러리 사용\n",
    "#  - 주의점: 대문자로 작성해야한다 (ENTER, END...)\n",
    "\n",
    "search.send_keys(Keys.ENTER)  # 키보드에 있는 엔터(ENTER)를 보내겠다"
   ]
  },
  {
   "cell_type": "code",
   "execution_count": 18,
   "id": "85da6873",
   "metadata": {},
   "outputs": [],
   "source": [
    "# 4. 스크롤을 화면 최하단으로 이동\n",
    "# why?  - 화면 밑에 있는 데이터도 로딩시키기 위해서\n",
    "# 키보드에 있는 END 키를 화면에 보내주기\n",
    "\n",
    "body = driver.find_element(By.TAG_NAME, \"body\")\n",
    "body.send_keys(Keys.END)"
   ]
  },
  {
   "cell_type": "code",
   "execution_count": 22,
   "id": "07cbc86b",
   "metadata": {},
   "outputs": [],
   "source": [
    "# 5. 페이지 뒤로가기\n",
    "#  - 뒤로가기 버튼은 html 태그가 아니다!\n",
    "\n",
    "driver.back()"
   ]
  },
  {
   "cell_type": "code",
   "execution_count": 25,
   "id": "314eaf8c",
   "metadata": {},
   "outputs": [],
   "source": [
    "# 6. 다시 한 번 검색창에 새로운 검색어 입력하기\n",
    "# 화면이 변하면(이동) 컴퓨터는 과거 화면을 다 잊어버린다\n",
    "#  --> 반드시 요소를 새로 검색 후 명령 부여\n",
    "\n",
    "search = driver.find_element(By.ID, \"query\")\n",
    "search.send_keys(\"동명동 맛집\")"
   ]
  },
  {
   "cell_type": "code",
   "execution_count": 26,
   "id": "eec87c24",
   "metadata": {},
   "outputs": [],
   "source": [
    "# 7. 검색 --> 검색 버튼 클릭\n",
    "\n",
    "btn = driver.find_element(By.CLASS_NAME, \"btn_search\")\n",
    "btn.click()"
   ]
  },
  {
   "cell_type": "code",
   "execution_count": 27,
   "id": "a56571de",
   "metadata": {},
   "outputs": [],
   "source": [
    "# 8. 창 종료\n",
    "\n",
    "driver.quit()   # close()"
   ]
  },
  {
   "cell_type": "markdown",
   "id": "0ee65890",
   "metadata": {},
   "source": [
    "## 참고할 점!\n",
    " - 수업 때 한 방식은 최신 버전의 코드\n",
    " \n",
    " 1. 크롬 드라이버\n",
    "   - 컴퓨터용 크롬\n",
    "  - 1.1 wb.Chrome(\"크롬 드라이버의 경로\")  # 경로 작성하지 않아도 됨\n",
    " 2. find_element(By.ID) --> find_element_by_id("
   ]
  },
  {
   "cell_type": "code",
   "execution_count": null,
   "id": "4eae5868",
   "metadata": {},
   "outputs": [],
   "source": []
  },
  {
   "cell_type": "code",
   "execution_count": null,
   "id": "7bf73e35",
   "metadata": {},
   "outputs": [],
   "source": []
  },
  {
   "cell_type": "code",
   "execution_count": null,
   "id": "09358230",
   "metadata": {},
   "outputs": [],
   "source": []
  },
  {
   "cell_type": "code",
   "execution_count": null,
   "id": "4e1a5895",
   "metadata": {},
   "outputs": [],
   "source": []
  },
  {
   "cell_type": "code",
   "execution_count": null,
   "id": "c8956b43",
   "metadata": {},
   "outputs": [],
   "source": []
  },
  {
   "cell_type": "code",
   "execution_count": null,
   "id": "3cb6c25b",
   "metadata": {},
   "outputs": [],
   "source": []
  },
  {
   "cell_type": "code",
   "execution_count": null,
   "id": "a769e5fb",
   "metadata": {},
   "outputs": [],
   "source": []
  },
  {
   "cell_type": "code",
   "execution_count": null,
   "id": "11063689",
   "metadata": {},
   "outputs": [],
   "source": []
  }
 ],
 "metadata": {
  "kernelspec": {
   "display_name": "Python 3 (ipykernel)",
   "language": "python",
   "name": "python3"
  },
  "language_info": {
   "codemirror_mode": {
    "name": "ipython",
    "version": 3
   },
   "file_extension": ".py",
   "mimetype": "text/x-python",
   "name": "python",
   "nbconvert_exporter": "python",
   "pygments_lexer": "ipython3",
   "version": "3.10.9"
  }
 },
 "nbformat": 4,
 "nbformat_minor": 5
}
