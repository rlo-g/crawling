{
 "cells": [
  {
   "cell_type": "code",
   "execution_count": 1,
   "id": "c22ed376",
   "metadata": {},
   "outputs": [],
   "source": [
    "from selenium import webdriver as wb\n",
    "from selenium.webdriver.common.by import By\n",
    "import time\n",
    "from selenium.webdriver.common.keys import Keys"
   ]
  },
  {
   "cell_type": "code",
   "execution_count": 11,
   "id": "3433f3c3",
   "metadata": {},
   "outputs": [],
   "source": [
    "#1. 크롬드라이버를 실행에서 네이버지도 사이트로 이동\n",
    "driver = wb.Chrome()\n",
    "driver.get('https://map.naver.com/p/')"
   ]
  },
  {
   "cell_type": "code",
   "execution_count": 12,
   "id": "592807c2",
   "metadata": {},
   "outputs": [],
   "source": [
    "#2. 검색창에 검색어를 입력(동명동 회식)\n",
    "# 검색창의 구분자인 id값이 실행 할 때마다 변한다.\n",
    "# 이런 경우에는 다른 선택자를 활용을 해야한다!\n",
    "search = driver.find_element(By.CSS_SELECTOR,\".input_search\")\n",
    "search.send_keys(\"동명동 회식\")\n",
    "search.send_keys(Keys.ENTER)"
   ]
  },
  {
   "cell_type": "code",
   "execution_count": 13,
   "id": "6b9d5099",
   "metadata": {
    "collapsed": true
   },
   "outputs": [
    {
     "ename": "IndexError",
     "evalue": "list index out of range",
     "output_type": "error",
     "traceback": [
      "\u001b[1;31m---------------------------------------------------------------------------\u001b[0m",
      "\u001b[1;31mIndexError\u001b[0m                                Traceback (most recent call last)",
      "Cell \u001b[1;32mIn[13], line 6\u001b[0m\n\u001b[0;32m      1\u001b[0m \u001b[38;5;66;03m# 미미원을 클릭해서 세부정보를 조회\u001b[39;00m\n\u001b[0;32m      2\u001b[0m \u001b[38;5;66;03m# 화면상에 데이터가 출력은 되는데 조작이 안될 때는 iframe을 검사해라!\u001b[39;00m\n\u001b[0;32m      3\u001b[0m \u001b[38;5;66;03m# 1. req는 iframe src를 찾아가서 거기서 데이터 수집을 했다.\u001b[39;00m\n\u001b[0;32m      4\u001b[0m \u001b[38;5;66;03m# 2. selenium에서는 현재 컴퓨터가 바라보고있는 html창을 변경\u001b[39;00m\n\u001b[0;32m      5\u001b[0m title \u001b[38;5;241m=\u001b[39m driver\u001b[38;5;241m.\u001b[39mfind_elements(By\u001b[38;5;241m.\u001b[39mCSS_SELECTOR,\u001b[38;5;124m\"\u001b[39m\u001b[38;5;124m.place_bluelink.YwYLL\u001b[39m\u001b[38;5;124m\"\u001b[39m)\n\u001b[1;32m----> 6\u001b[0m \u001b[43mtitle\u001b[49m\u001b[43m[\u001b[49m\u001b[38;5;241;43m0\u001b[39;49m\u001b[43m]\u001b[49m\u001b[38;5;241m.\u001b[39mclick()\n",
      "\u001b[1;31mIndexError\u001b[0m: list index out of range"
     ]
    }
   ],
   "source": [
    "# 미미원을 클릭해서 세부정보를 조회\n",
    "# 화면상에 데이터가 출력은 되는데 조작이 안될 때는 iframe을 검사해라!\n",
    "# 1. req는 iframe src를 찾아가서 거기서 데이터 수집을 했다.\n",
    "# 2. selenium에서는 현재 컴퓨터가 바라보고있는 html창을 변경\n",
    "title = driver.find_elements(By.CSS_SELECTOR,\".place_bluelink.YwYLL\")\n",
    "title[0].click()"
   ]
  },
  {
   "cell_type": "code",
   "execution_count": 14,
   "id": "d849803b",
   "metadata": {},
   "outputs": [],
   "source": [
    "# 컴퓨터에게 바라보고 있는 창을 원하는 iframe으로 변경\n",
    "# frame을 변경할 때는 switch_to.frame(\"iframe의 id\")\n",
    "driver.switch_to.frame(\"searchIframe\")"
   ]
  },
  {
   "cell_type": "code",
   "execution_count": 15,
   "id": "807fb39d",
   "metadata": {},
   "outputs": [],
   "source": [
    "title = driver.find_elements(By.CSS_SELECTOR,\".place_bluelink.YwYLL\")\n",
    "title[0].click()"
   ]
  },
  {
   "cell_type": "code",
   "execution_count": 16,
   "id": "53d73d7e",
   "metadata": {
    "collapsed": true
   },
   "outputs": [
    {
     "ename": "NoSuchElementException",
     "evalue": "Message: no such element: Unable to locate element: {\"method\":\"css selector\",\"selector\":\".Fc1rA\"}\n  (Session info: chrome=116.0.5845.111); For documentation on this error, please visit: https://www.selenium.dev/documentation/webdriver/troubleshooting/errors#no-such-element-exception\nStacktrace:\n\tGetHandleVerifier [0x00007FF7B96752A2+57122]\n\t(No symbol) [0x00007FF7B95EEA92]\n\t(No symbol) [0x00007FF7B94BE3AB]\n\t(No symbol) [0x00007FF7B94F7D3E]\n\t(No symbol) [0x00007FF7B94F7E2C]\n\t(No symbol) [0x00007FF7B9530B67]\n\t(No symbol) [0x00007FF7B951701F]\n\t(No symbol) [0x00007FF7B952EB82]\n\t(No symbol) [0x00007FF7B9516DB3]\n\t(No symbol) [0x00007FF7B94ED2B1]\n\t(No symbol) [0x00007FF7B94EE494]\n\tGetHandleVerifier [0x00007FF7B991EF82+2849794]\n\tGetHandleVerifier [0x00007FF7B9971D24+3189156]\n\tGetHandleVerifier [0x00007FF7B996ACAF+3160367]\n\tGetHandleVerifier [0x00007FF7B9706D06+653702]\n\t(No symbol) [0x00007FF7B95FA208]\n\t(No symbol) [0x00007FF7B95F62C4]\n\t(No symbol) [0x00007FF7B95F63F6]\n\t(No symbol) [0x00007FF7B95E67A3]\n\tBaseThreadInitThunk [0x00007FFA350726AD+29]\n\tRtlUserThreadStart [0x00007FFA35DCAA68+40]\n",
     "output_type": "error",
     "traceback": [
      "\u001b[1;31m---------------------------------------------------------------------------\u001b[0m",
      "\u001b[1;31mNoSuchElementException\u001b[0m                    Traceback (most recent call last)",
      "Cell \u001b[1;32mIn[16], line 2\u001b[0m\n\u001b[0;32m      1\u001b[0m \u001b[38;5;66;03m# 상세정보에서 가게이름정보 수집\u001b[39;00m\n\u001b[1;32m----> 2\u001b[0m \u001b[43mdriver\u001b[49m\u001b[38;5;241;43m.\u001b[39;49m\u001b[43mfind_element\u001b[49m\u001b[43m(\u001b[49m\u001b[43mBy\u001b[49m\u001b[38;5;241;43m.\u001b[39;49m\u001b[43mCSS_SELECTOR\u001b[49m\u001b[43m,\u001b[49m\u001b[38;5;124;43m\"\u001b[39;49m\u001b[38;5;124;43m.Fc1rA\u001b[39;49m\u001b[38;5;124;43m\"\u001b[39;49m\u001b[43m)\u001b[49m\n",
      "File \u001b[1;32m~\\anaconda3\\lib\\site-packages\\selenium\\webdriver\\remote\\webdriver.py:739\u001b[0m, in \u001b[0;36mWebDriver.find_element\u001b[1;34m(self, by, value)\u001b[0m\n\u001b[0;32m    736\u001b[0m     by \u001b[38;5;241m=\u001b[39m By\u001b[38;5;241m.\u001b[39mCSS_SELECTOR\n\u001b[0;32m    737\u001b[0m     value \u001b[38;5;241m=\u001b[39m \u001b[38;5;124mf\u001b[39m\u001b[38;5;124m'\u001b[39m\u001b[38;5;124m[name=\u001b[39m\u001b[38;5;124m\"\u001b[39m\u001b[38;5;132;01m{\u001b[39;00mvalue\u001b[38;5;132;01m}\u001b[39;00m\u001b[38;5;124m\"\u001b[39m\u001b[38;5;124m]\u001b[39m\u001b[38;5;124m'\u001b[39m\n\u001b[1;32m--> 739\u001b[0m \u001b[38;5;28;01mreturn\u001b[39;00m \u001b[38;5;28;43mself\u001b[39;49m\u001b[38;5;241;43m.\u001b[39;49m\u001b[43mexecute\u001b[49m\u001b[43m(\u001b[49m\u001b[43mCommand\u001b[49m\u001b[38;5;241;43m.\u001b[39;49m\u001b[43mFIND_ELEMENT\u001b[49m\u001b[43m,\u001b[49m\u001b[43m \u001b[49m\u001b[43m{\u001b[49m\u001b[38;5;124;43m\"\u001b[39;49m\u001b[38;5;124;43musing\u001b[39;49m\u001b[38;5;124;43m\"\u001b[39;49m\u001b[43m:\u001b[49m\u001b[43m \u001b[49m\u001b[43mby\u001b[49m\u001b[43m,\u001b[49m\u001b[43m \u001b[49m\u001b[38;5;124;43m\"\u001b[39;49m\u001b[38;5;124;43mvalue\u001b[39;49m\u001b[38;5;124;43m\"\u001b[39;49m\u001b[43m:\u001b[49m\u001b[43m \u001b[49m\u001b[43mvalue\u001b[49m\u001b[43m}\u001b[49m\u001b[43m)\u001b[49m[\u001b[38;5;124m\"\u001b[39m\u001b[38;5;124mvalue\u001b[39m\u001b[38;5;124m\"\u001b[39m]\n",
      "File \u001b[1;32m~\\anaconda3\\lib\\site-packages\\selenium\\webdriver\\remote\\webdriver.py:345\u001b[0m, in \u001b[0;36mWebDriver.execute\u001b[1;34m(self, driver_command, params)\u001b[0m\n\u001b[0;32m    343\u001b[0m response \u001b[38;5;241m=\u001b[39m \u001b[38;5;28mself\u001b[39m\u001b[38;5;241m.\u001b[39mcommand_executor\u001b[38;5;241m.\u001b[39mexecute(driver_command, params)\n\u001b[0;32m    344\u001b[0m \u001b[38;5;28;01mif\u001b[39;00m response:\n\u001b[1;32m--> 345\u001b[0m     \u001b[38;5;28;43mself\u001b[39;49m\u001b[38;5;241;43m.\u001b[39;49m\u001b[43merror_handler\u001b[49m\u001b[38;5;241;43m.\u001b[39;49m\u001b[43mcheck_response\u001b[49m\u001b[43m(\u001b[49m\u001b[43mresponse\u001b[49m\u001b[43m)\u001b[49m\n\u001b[0;32m    346\u001b[0m     response[\u001b[38;5;124m\"\u001b[39m\u001b[38;5;124mvalue\u001b[39m\u001b[38;5;124m\"\u001b[39m] \u001b[38;5;241m=\u001b[39m \u001b[38;5;28mself\u001b[39m\u001b[38;5;241m.\u001b[39m_unwrap_value(response\u001b[38;5;241m.\u001b[39mget(\u001b[38;5;124m\"\u001b[39m\u001b[38;5;124mvalue\u001b[39m\u001b[38;5;124m\"\u001b[39m, \u001b[38;5;28;01mNone\u001b[39;00m))\n\u001b[0;32m    347\u001b[0m     \u001b[38;5;28;01mreturn\u001b[39;00m response\n",
      "File \u001b[1;32m~\\anaconda3\\lib\\site-packages\\selenium\\webdriver\\remote\\errorhandler.py:229\u001b[0m, in \u001b[0;36mErrorHandler.check_response\u001b[1;34m(self, response)\u001b[0m\n\u001b[0;32m    227\u001b[0m         alert_text \u001b[38;5;241m=\u001b[39m value[\u001b[38;5;124m\"\u001b[39m\u001b[38;5;124malert\u001b[39m\u001b[38;5;124m\"\u001b[39m]\u001b[38;5;241m.\u001b[39mget(\u001b[38;5;124m\"\u001b[39m\u001b[38;5;124mtext\u001b[39m\u001b[38;5;124m\"\u001b[39m)\n\u001b[0;32m    228\u001b[0m     \u001b[38;5;28;01mraise\u001b[39;00m exception_class(message, screen, stacktrace, alert_text)  \u001b[38;5;66;03m# type: ignore[call-arg]  # mypy is not smart enough here\u001b[39;00m\n\u001b[1;32m--> 229\u001b[0m \u001b[38;5;28;01mraise\u001b[39;00m exception_class(message, screen, stacktrace)\n",
      "\u001b[1;31mNoSuchElementException\u001b[0m: Message: no such element: Unable to locate element: {\"method\":\"css selector\",\"selector\":\".Fc1rA\"}\n  (Session info: chrome=116.0.5845.111); For documentation on this error, please visit: https://www.selenium.dev/documentation/webdriver/troubleshooting/errors#no-such-element-exception\nStacktrace:\n\tGetHandleVerifier [0x00007FF7B96752A2+57122]\n\t(No symbol) [0x00007FF7B95EEA92]\n\t(No symbol) [0x00007FF7B94BE3AB]\n\t(No symbol) [0x00007FF7B94F7D3E]\n\t(No symbol) [0x00007FF7B94F7E2C]\n\t(No symbol) [0x00007FF7B9530B67]\n\t(No symbol) [0x00007FF7B951701F]\n\t(No symbol) [0x00007FF7B952EB82]\n\t(No symbol) [0x00007FF7B9516DB3]\n\t(No symbol) [0x00007FF7B94ED2B1]\n\t(No symbol) [0x00007FF7B94EE494]\n\tGetHandleVerifier [0x00007FF7B991EF82+2849794]\n\tGetHandleVerifier [0x00007FF7B9971D24+3189156]\n\tGetHandleVerifier [0x00007FF7B996ACAF+3160367]\n\tGetHandleVerifier [0x00007FF7B9706D06+653702]\n\t(No symbol) [0x00007FF7B95FA208]\n\t(No symbol) [0x00007FF7B95F62C4]\n\t(No symbol) [0x00007FF7B95F63F6]\n\t(No symbol) [0x00007FF7B95E67A3]\n\tBaseThreadInitThunk [0x00007FFA350726AD+29]\n\tRtlUserThreadStart [0x00007FFA35DCAA68+40]\n"
     ]
    }
   ],
   "source": [
    "# 상세정보에서 가게이름정보 수집\n",
    "driver.find_element(By.CSS_SELECTOR,\".Fc1rA\")"
   ]
  },
  {
   "cell_type": "code",
   "execution_count": 17,
   "id": "14734f55",
   "metadata": {},
   "outputs": [],
   "source": [
    "# 상세정보 iframe으로 화면을 이동\n",
    "# 주의점!\n",
    "# iframe에서 다른 iframe으로 바로 이동이 불가능\n",
    "# 원본 데이터로 이동 -> 다른 iframe으로 이동\n",
    "driver.switch_to.default_content()"
   ]
  },
  {
   "cell_type": "code",
   "execution_count": 18,
   "id": "85c03448",
   "metadata": {},
   "outputs": [],
   "source": [
    "# 상세정보 iframe으로 이동\n",
    "driver.switch_to.frame('entryIframe')"
   ]
  },
  {
   "cell_type": "code",
   "execution_count": 19,
   "id": "212505eb",
   "metadata": {},
   "outputs": [
    {
     "data": {
      "text/plain": [
       "'미미원'"
      ]
     },
     "execution_count": 19,
     "metadata": {},
     "output_type": "execute_result"
    }
   ],
   "source": [
    "# 상세정보에서 가게이름정보 수집\n",
    "name = driver.find_element(By.CSS_SELECTOR,\".Fc1rA\")\n",
    "name.text"
   ]
  },
  {
   "cell_type": "code",
   "execution_count": 20,
   "id": "26eb3999",
   "metadata": {},
   "outputs": [
    {
     "data": {
      "text/plain": [
       "'황톳길'"
      ]
     },
     "execution_count": 20,
     "metadata": {},
     "output_type": "execute_result"
    }
   ],
   "source": [
    "# 황톳길 (검색내용 2번째) 클릭 -> 가게이름 수집\n",
    "# 원본데이터 -> 검색프레임 -> 2번째가게 클릭\n",
    "# -> 원본데이터 -> 상세정보프레임 -> 데이터수집\n",
    "driver.switch_to.default_content()\n",
    "driver.switch_to.frame(\"searchIframe\")\n",
    "time.sleep(1)\n",
    "title = driver.find_elements(By.CSS_SELECTOR,\".place_bluelink.YwYLL\")\n",
    "title[1].click()\n",
    "time.sleep(3)\n",
    "driver.switch_to.default_content()\n",
    "driver.switch_to.frame('entryIframe')\n",
    "time.sleep(1)\n",
    "name = driver.find_element(By.CSS_SELECTOR,\".Fc1rA\")\n",
    "name.text"
   ]
  }
 ],
 "metadata": {
  "kernelspec": {
   "display_name": "Python 3 (ipykernel)",
   "language": "python",
   "name": "python3"
  },
  "language_info": {
   "codemirror_mode": {
    "name": "ipython",
    "version": 3
   },
   "file_extension": ".py",
   "mimetype": "text/x-python",
   "name": "python",
   "nbconvert_exporter": "python",
   "pygments_lexer": "ipython3",
   "version": "3.10.9"
  }
 },
 "nbformat": 4,
 "nbformat_minor": 5
}
