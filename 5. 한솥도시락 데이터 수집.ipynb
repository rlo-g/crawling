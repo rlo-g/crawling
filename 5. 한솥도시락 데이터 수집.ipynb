{
 "cells": [
  {
   "cell_type": "code",
   "execution_count": 1,
   "id": "1ed6438b",
   "metadata": {},
   "outputs": [],
   "source": [
    "from selenium import webdriver as wb\n",
    "from selenium.webdriver.common.by import By\n",
    "from selenium.webdriver.common.keys import Keys"
   ]
  },
  {
   "cell_type": "code",
   "execution_count": 31,
   "id": "7c25241b",
   "metadata": {},
   "outputs": [],
   "source": [
    "# 1. 브라우저 실행 > 한솥 사이트 이동\n",
    "\n",
    "driver = wb.Chrome()\n",
    "driver.get(\"https://www.hsd.co.kr/menu/menu_list\")"
   ]
  },
  {
   "cell_type": "code",
   "execution_count": 25,
   "id": "0067a1ed",
   "metadata": {
    "collapsed": true
   },
   "outputs": [
    {
     "name": "stdout",
     "output_type": "stream",
     "text": [
      "오리 영양도시락\n",
      "통살 오징어튀김\n",
      "열무 감초고추장 비빔밥\n",
      "열무 두부강된장 비빔밥\n",
      "[8월할인메뉴] 토네이도 소세지\n",
      "[8월할인메뉴] 토핑-계란후라이\n",
      "[8월할인메뉴] 치킨2조각\n",
      "[8월할인메뉴] 토핑-스팸\n",
      "[8월할인메뉴] 빅치킨마요\n",
      "[8월할인메뉴] 치킨마요\n",
      "[8월할인메뉴] 카츠카츠 도시락\n",
      "[8월할인메뉴] 핫 치즈 닭갈비 덮밥\n",
      "[8월할인메뉴] 오리지널 치즈 닭갈비 덮밥\n",
      "[8월할인메뉴] 돈까스도련님 고기고기\n",
      "[8월행사메뉴] 숯불직화구이 덮밥\n",
      "[8월할인메뉴] 진달래\n",
      "[8월할인메뉴] 통현미 닭강정(소)\n",
      "[8월할인메뉴] 스팸 김치볶음밥\n"
     ]
    }
   ],
   "source": [
    "# 2. 상품 이름 수집\n",
    "# CSS_SELECTOR 사용 시 선택자(#, .) 입력 필수\n",
    "\n",
    "title = driver.find_elements(By.CSS_SELECTOR, \".h.fz_03\")\n",
    "\n",
    "for i in title:\n",
    "    print(i.text)"
   ]
  },
  {
   "cell_type": "code",
   "execution_count": 26,
   "id": "be502943",
   "metadata": {
    "collapsed": true
   },
   "outputs": [
    {
     "name": "stdout",
     "output_type": "stream",
     "text": [
      "6,900\n",
      "2,900\n",
      "4,500\n",
      "4,900\n",
      "1,000\n",
      "800\n",
      "1,300\n",
      "800\n",
      "3,600\n",
      "3,000\n",
      "3,900\n",
      "4,900\n",
      "4,900\n",
      "5,500\n",
      "4,900\n",
      "6,700\n",
      "2,900\n",
      "3,900\n"
     ]
    }
   ],
   "source": [
    "# 3. 상품 가격 수집\n",
    "#  - #menuList_486 > div > div.item-text > div > strong\n",
    "#  - #menuList_486의 경우, 복수가 아닌 단수개를 가져옴\n",
    "\n",
    "price = driver.find_elements(By.CSS_SELECTOR, \"div > div.item-text > div > strong\")\n",
    "\n",
    "for i in price:\n",
    "    print(i.text)"
   ]
  },
  {
   "cell_type": "code",
   "execution_count": 27,
   "id": "f27ee975",
   "metadata": {},
   "outputs": [],
   "source": [
    "# 더보기 버튼 클릭\n",
    "# 더 많은 정보를 가져오기 위해서\n",
    "\n",
    "btn = driver.find_element(By.CSS_SELECTOR, \".c_05\")\n",
    "btn.click()"
   ]
  },
  {
   "cell_type": "code",
   "execution_count": 30,
   "id": "6f27f2be",
   "metadata": {},
   "outputs": [],
   "source": [
    "# 더보기를 끝까지 반복\n",
    "\n",
    "for i in range(15):\n",
    "    btn = driver.find_element(By.CSS_SELECTOR, \".c_05\")\n",
    "    btn.click()"
   ]
  },
  {
   "cell_type": "markdown",
   "id": "08cd28e6",
   "metadata": {},
   "source": [
    "## 예외처리\n",
    "  - 코드를 실행하다가 에러가 나는 경우, 에러가 아닌 다른 코드를 실행\n",
    "  - try : 에러가 나기 전까지 실행할 코드\n",
    "  - except : 에러가 났을 때 실행할 코드"
   ]
  },
  {
   "cell_type": "code",
   "execution_count": 32,
   "id": "7671309c",
   "metadata": {},
   "outputs": [],
   "source": [
    "# 셀레니움을 통해서 요청을 보낼 때는 반드시 사람답게 코드를 짜자!\n",
    "# 컴퓨터는 요청을 매우 빠르게 처리하기 때문에\n",
    "# 클라이언트가 서버에게 무리한 요청을 하면\n",
    "# 서버는 부하를 느낀다 --> 아이피 차단, 반응 전 오류 발생\n",
    "\n",
    "# timpe.sleep(초) : 해당하는 시간만큼 코드가 멈춘다\n",
    "#  - 코드에 중간중간 쉬는 시간을 부여\n",
    "#  - 반드시 요청과 응답이 있는 경우에 사용하는 걸 권장 (요청과 응답 사이에)\n",
    "import time"
   ]
  },
  {
   "cell_type": "code",
   "execution_count": 33,
   "id": "6f2a3b8b",
   "metadata": {},
   "outputs": [
    {
     "name": "stdout",
     "output_type": "stream",
     "text": [
      "더보기가 없습니다!\n"
     ]
    }
   ],
   "source": [
    "try:\n",
    "    # 에러가 나기 전까지 실행할 코드\n",
    "    for i in range(15):\n",
    "        btn = driver.find_element(By.CSS_SELECTOR, \".c_05\")\n",
    "        btn.click()    # 사용자가 요청을 보냄\n",
    "        time.sleep(3)  # 응답을 받을 3초동안 기다린다\n",
    "except:\n",
    "    # 에러가 났을 때 실행할 코드\n",
    "    print(\"더보기가 없습니다!\")"
   ]
  },
  {
   "cell_type": "code",
   "execution_count": 36,
   "id": "4c75ef60",
   "metadata": {},
   "outputs": [
    {
     "data": {
      "text/plain": [
       "111"
      ]
     },
     "execution_count": 36,
     "metadata": {},
     "output_type": "execute_result"
    }
   ],
   "source": [
    "# 더보기를 눌러 정보를 더 가져왔으므로 다시 실행\n",
    "title = driver.find_elements(By.CSS_SELECTOR, \".h.fz_03\")\n",
    "price = driver.find_elements(By.CSS_SELECTOR, \"div > div.item-text > div > strong\")\n",
    "\n",
    "len(title)"
   ]
  },
  {
   "cell_type": "code",
   "execution_count": 37,
   "id": "5b5589e5",
   "metadata": {},
   "outputs": [],
   "source": [
    "# 수집된 요소를 텍스트 데이터만 추출\n",
    "\n",
    "title_list = []\n",
    "price_list = []\n",
    "\n",
    "for i in range(len(title)):\n",
    "    title_list.append(title[i].text)\n",
    "    price_list.append(price[i].text)"
   ]
  },
  {
   "cell_type": "code",
   "execution_count": 39,
   "id": "136cb970",
   "metadata": {
    "collapsed": true
   },
   "outputs": [
    {
     "data": {
      "text/plain": [
       "['오리 영양도시락',\n",
       " '통살 오징어튀김',\n",
       " '열무 감초고추장 비빔밥',\n",
       " '열무 두부강된장 비빔밥',\n",
       " '[8월할인메뉴] 토네이도 소세지',\n",
       " '[8월할인메뉴] 토핑-계란후라이',\n",
       " '[8월할인메뉴] 치킨2조각',\n",
       " '[8월할인메뉴] 토핑-스팸',\n",
       " '[8월할인메뉴] 빅치킨마요',\n",
       " '[8월할인메뉴] 치킨마요',\n",
       " '[8월할인메뉴] 카츠카츠 도시락',\n",
       " '[8월할인메뉴] 핫 치즈 닭갈비 덮밥',\n",
       " '[8월할인메뉴] 오리지널 치즈 닭갈비 덮밥',\n",
       " '[8월할인메뉴] 돈까스도련님 고기고기',\n",
       " '[8월행사메뉴] 숯불직화구이 덮밥',\n",
       " '[8월할인메뉴] 진달래',\n",
       " '[8월할인메뉴] 통현미 닭강정(소)',\n",
       " '[8월할인메뉴] 스팸 김치볶음밥',\n",
       " '해바라기',\n",
       " '매화',\n",
       " '진달래',\n",
       " '개나리',\n",
       " '돈까스도련님고기고기',\n",
       " '탕수육도련님고기고기',\n",
       " '새치 고기고기',\n",
       " '돈치 고기고기',\n",
       " '카츠카츠 도시락',\n",
       " '숯불직화구이',\n",
       " '소불고기',\n",
       " '메가치킨제육',\n",
       " '칠리 찹쌀탕수육도련님',\n",
       " '동백',\n",
       " '치킨제육',\n",
       " '돈까스도련님',\n",
       " '제육볶음',\n",
       " '돈치스팸 도시락',\n",
       " '제육 김치찌개 정식',\n",
       " '제육 김치 부대찌개 정식',\n",
       " '돈치스팸 김치 부대찌개 정식',\n",
       " '빅치킨마요 김치 부대찌개 정식',\n",
       " '치킨마요 김치 부대찌개 정식',\n",
       " '빅치킨마요 김치찌개 정식',\n",
       " '치킨마요 김치찌개 정식',\n",
       " '새후마요',\n",
       " '메가스팸마요',\n",
       " '스팸마요',\n",
       " '메가치킨마요',\n",
       " '왕치킨마요',\n",
       " '빅치킨마요',\n",
       " '치킨마요',\n",
       " '참치마요',\n",
       " '돈치마요',\n",
       " '돈까스 카레',\n",
       " '스팸 김치볶음밥',\n",
       " '김치볶음밥',\n",
       " '스팸철판볶음밥',\n",
       " '소불고기 철판볶음밥',\n",
       " '나시고랭',\n",
       " '묵은지 김치찌개',\n",
       " '김치 부대찌개',\n",
       " '핫 치즈 닭갈비덮밥',\n",
       " '오리지널 치즈 닭갈비덮밥',\n",
       " '숯불직화구이 덮밥',\n",
       " '마파두부 덮밥',\n",
       " '왕카레돈까스덮밥',\n",
       " '새우돈까스 덮밥',\n",
       " '돈까스 덮밥',\n",
       " '아보카도 훈제 닭가슴살 명란 비빔밥',\n",
       " '아보카도 소불고기 명란 비빔밥',\n",
       " '소불고기 감초고추장 비빔밥',\n",
       " '시골제육 두부강된장 비빔밥',\n",
       " '참치야채 감초고추장',\n",
       " '튼튼도시락',\n",
       " '반찬 묵은지김치찌개',\n",
       " '반찬 카레',\n",
       " '반찬 순살 고등어 간장구이',\n",
       " '반찬 김치 부대찌개',\n",
       " '반찬 치킨',\n",
       " '반찬 고기고기',\n",
       " '반찬 돈까스 도련님',\n",
       " '반찬 제육볶음',\n",
       " '반찬 토네이도 소세지',\n",
       " '반찬 반달돈까스',\n",
       " '치즈버터 해시 포테이토 스틱',\n",
       " '허니버터 해시 포테이토 스틱',\n",
       " '해시 포테이토 스틱',\n",
       " '뉴 감자고로케',\n",
       " '미니 찹쌀핫도그',\n",
       " '미니 찹쌀탕수육',\n",
       " '케이준후라이',\n",
       " '통현미 닭강정(소)',\n",
       " '통현미 닭강정(중)',\n",
       " '후라이드 순살(중)',\n",
       " '후라이드 순살(소)_양념치킨소스',\n",
       " '후라이드 순살(소)_케이준소스',\n",
       " '오리지널 닭강정(중)',\n",
       " '오리지널 닭강정(소)',\n",
       " '반찬 무생채',\n",
       " '3종 미니반찬B',\n",
       " '3종 미니반찬A',\n",
       " '반찬 열무김치',\n",
       " '오징어젓갈',\n",
       " '한솥 두부강된장소스',\n",
       " '한솥 감초볶음고추장소스',\n",
       " '볶음김치',\n",
       " '김치',\n",
       " '무말랭이 무침',\n",
       " '한솥밥',\n",
       " '현미밥',\n",
       " '리얼 티라미수 찰떡',\n",
       " '리얼꿀 미니호떡']"
      ]
     },
     "execution_count": 39,
     "metadata": {},
     "output_type": "execute_result"
    }
   ],
   "source": [
    "title_list"
   ]
  },
  {
   "cell_type": "markdown",
   "id": "d0d1522d",
   "metadata": {},
   "source": [
    "## 한 셀에 코드 합치기\n",
    "  - 프로그램(실행 파일) 제작을 할 때는 반드시 코드를 한 셀에 합쳐야한다"
   ]
  },
  {
   "cell_type": "code",
   "execution_count": 41,
   "id": "f3259b71",
   "metadata": {},
   "outputs": [
    {
     "name": "stdout",
     "output_type": "stream",
     "text": [
      "더보기가 없습니다!\n"
     ]
    }
   ],
   "source": [
    "from selenium import webdriver as wb\n",
    "from selenium.webdriver.common.by import By\n",
    "from selenium.webdriver.common.keys import Keys\n",
    "import time\n",
    "import pandas as pd\n",
    "\n",
    "driver = wb.Chrome()\n",
    "driver.get(\"https://www.hsd.co.kr/menu/menu_list\")\n",
    "# get도 요청을 통해 응답을 가져오는 것이므로 time.sleep\n",
    "time.sleep(3)\n",
    "\n",
    "try:\n",
    "    for i in range(15):\n",
    "        btn = driver.find_element(By.CSS_SELECTOR, \".c_05\")\n",
    "        btn.click() \n",
    "        time.sleep(3) \n",
    "except:\n",
    "    print(\"더보기가 없습니다!\")\n",
    "# -- 데이터 준비 단계 --\n",
    "\n",
    "\n",
    "title = driver.find_elements(By.CSS_SELECTOR, \".h.fz_03\")\n",
    "price = driver.find_elements(By.CSS_SELECTOR, \"div > div.item-text > div > strong\")\n",
    "# -- 데이터 수집 단계 --\n",
    "\n",
    "\n",
    "title_list = []\n",
    "price_list = []\n",
    "\n",
    "for i in range(len(title)):\n",
    "    title_list.append(title[i].text)\n",
    "    price_list.append(price[i].text)\n",
    "# -- 데이터 가공 단계 --    \n",
    "\n",
    "\n",
    "dic = {'상품명':title_list, '가격정보':price_list}\n",
    "menu = pd.DataFrame(dic)\n",
    "\n",
    "menu.to_html(\"한솥메뉴.html\", encoding=\"euc-kr\")\n",
    "menu.to_csv(\"한솥.csv\", encoding=\"euc-kr\")\n",
    "# -- 데이터 활용 단계 --"
   ]
  },
  {
   "cell_type": "markdown",
   "id": "cac1be43",
   "metadata": {},
   "source": [
    "# 크롤링 하는 프로세스\n",
    " - 데이터 준비, 데이터 수집, 데이터 가공, 데이터 활용\n",
    " \n",
    " - 1. 데이터 준비 : 완벽한 데이터를 수집하기 위해서 화면 준비(더보기 버튼 모두 클릭, 스크롤 최하단 이동 등)를 하는 단계\n",
    " - 2. 데이터 수집 : 준비된 데이터(html)에서 필요한 요소를 수집\n",
    " - 3. 데이터 가공 : 수집된 데이터(요소)를 필요한 컨텐츠, 속성만 가공\n",
    " - 4. 데이터 활용 : 가공된 데이터를 표, 파일로 제작"
   ]
  },
  {
   "cell_type": "markdown",
   "id": "90b543c4",
   "metadata": {},
   "source": [
    "### 크롤링 팁!\n",
    " - 반드시 selenium을 활용할 때는 '셀 Run All'을 금지한다!\n",
    " - 항상 사람처럼 코딩을 작성하자\n",
    " - 요청과 응답 사이에는 반드시 시간 부여\n",
    " - tip!\n",
    " - time.sleep()  vs  implicitly_wait()\n",
    " - time : 무조건 내가 설정한 시간만큼 코드 중단\n",
    " - implicitly : 설정한 시간보다 완료된 시간이 짧으면 완료가 된 기점으로 코드 진행 -> 장/단점 - 네트워크 환경을 많이 탐\n"
   ]
  }
 ],
 "metadata": {
  "kernelspec": {
   "display_name": "Python 3 (ipykernel)",
   "language": "python",
   "name": "python3"
  },
  "language_info": {
   "codemirror_mode": {
    "name": "ipython",
    "version": 3
   },
   "file_extension": ".py",
   "mimetype": "text/x-python",
   "name": "python",
   "nbconvert_exporter": "python",
   "pygments_lexer": "ipython3",
   "version": "3.10.9"
  }
 },
 "nbformat": 4,
 "nbformat_minor": 5
}
