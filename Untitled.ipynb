{
 "cells": [
  {
   "cell_type": "code",
   "execution_count": 4,
   "id": "9705e182",
   "metadata": {},
   "outputs": [
    {
     "name": "stdout",
     "output_type": "stream",
     "text": [
      "더보기가 없습니다!\n"
     ]
    }
   ],
   "source": [
    "from selenium import webdriver as wb\n",
    "from selenium.webdriver.common.by import By\n",
    "from selenium.webdriver.common.keys import Keys\n",
    "import time\n",
    "import pandas as pd\n",
    "\n",
    "\n",
    "head = {'User-Agent':'Mozilla/5.0 (Windows NT 10.0; Win64; x64) AppleWebKit/537.36 (KHTML, like Gecko) Chrome/116.0.0.0 Safari/537.36'}\n",
    "driver = wb.Chrome()\n",
    "driver.get(\"https://www.melon.com/chart/\")\n",
    "# get도 요청을 통해 응답을 가져오는 것이므로 time.sleep\n",
    "time.sleep(3)\n",
    "\n",
    "try:\n",
    "    for i in range(15):\n",
    "        btn = driver.find_element(By.CSS_SELECTOR, \".c_05\")\n",
    "        btn.click() \n",
    "        time.sleep(3) \n",
    "except:\n",
    "    print(\"더보기가 없습니다!\")\n",
    "# -- 데이터 준비 단계 --\n",
    "\n",
    "\n",
    "title = driver.find_elements(By.CSS_SELECTOR, \".h.fz_03\")\n",
    "price = driver.find_elements(By.CSS_SELECTOR, \"div > div.item-text > div > strong\")\n",
    "# -- 데이터 수집 단계 --\n",
    "\n",
    "\n",
    "title_list = []\n",
    "price_list = []\n",
    "\n",
    "for i in range(len(title)):\n",
    "    title_list.append(title[i].text)\n",
    "    price_list.append(price[i].text)\n",
    "# -- 데이터 가공 단계 --    \n",
    "\n",
    "\n",
    "dic = {'상품명':title_list, '가격정보':price_list}\n",
    "menu = pd.DataFrame(dic)\n",
    "\n",
    "menu.to_html(\"한솥메뉴.html\", encoding=\"euc-kr\")\n",
    "menu.to_csv(\"한솥.csv\", encoding=\"euc-kr\")\n",
    "# -- 데이터 활용 단계 --"
   ]
  },
  {
   "cell_type": "code",
   "execution_count": 25,
   "id": "4cdb58ba",
   "metadata": {},
   "outputs": [],
   "source": [
    "from selenium import webdriver as wb\n",
    "from selenium.webdriver.common.by import By\n",
    "from selenium.webdriver.common.keys import Keys\n",
    "import time\n",
    "import pandas as pd\n",
    "\n",
    "\n",
    "head = {'User-Agent':'Mozilla/5.0 (Windows NT 10.0; Win64; x64) AppleWebKit/537.36 (KHTML, like Gecko) Chrome/116.0.0.0 Safari/537.36'}\n",
    "driver = wb.Chrome()\n",
    "driver.get(\"https://www.melon.com/artist/timeline.htm?artistId=605098\")\n",
    "# get도 요청을 통해 응답을 가져오는 것이므로 time.sleep\n",
    "time.sleep(3)"
   ]
  },
  {
   "cell_type": "code",
   "execution_count": 26,
   "id": "651ea7d7",
   "metadata": {},
   "outputs": [],
   "source": [
    "song = driver.find_element(By.CSS_SELECTOR, \"#conts > div.wrap_tab_atist.type9 > ul > li:nth-child(3) > a\")\n",
    "song.click()"
   ]
  },
  {
   "cell_type": "code",
   "execution_count": 27,
   "id": "7a99ef3e",
   "metadata": {},
   "outputs": [],
   "source": [
    "create = driver.find_element(By.CSS_SELECTOR, \"#sort_layer > a:nth-child(4)\")\n",
    "create.click()"
   ]
  },
  {
   "cell_type": "code",
   "execution_count": 28,
   "id": "06703569",
   "metadata": {},
   "outputs": [
    {
     "name": "stdout",
     "output_type": "stream",
     "text": [
      "['There Will Be', '돌연변이', 'Sterling (Openning Title)', 'Mean Time Variation 1 (Guitar Ver.)', 'Tima', 'So What', 'I Got Love', '태엽시계 (Inst.)', 'Lonely Night', '백일몽 (Inst.)', 'Chewing Gum (泡泡糖)', 'Monster', '無限的我 (무한적아;Limitless)', '중독 (Overdose)', '一生一事 (For Life)']\n"
     ]
    }
   ],
   "source": [
    "title_list = []\n",
    "singer_list = []\n",
    "try:\n",
    "    for i in range(15):\n",
    "        btn = driver.find_element(By.CSS_SELECTOR, '#pageObjNavgation > div > span')              \n",
    "        btn.click() \n",
    "        time.sleep(5)\n",
    "        title = driver.find_elements(By.CSS_SELECTOR, \"#frm > div > table > tbody div > div > a.fc_gray\")\n",
    "        singer = driver.find_elements(By.CSS_SELECTOR, \"#artistName > a\")\n",
    "        title_list.append(title[i].text)\n",
    "        singer_list.append(title[i].text)\n",
    "except:\n",
    "    print(\"더보기가 없습니다!\")\n",
    "\n",
    "print(title_list)"
   ]
  }
 ],
 "metadata": {
  "kernelspec": {
   "display_name": "Python 3 (ipykernel)",
   "language": "python",
   "name": "python3"
  },
  "language_info": {
   "codemirror_mode": {
    "name": "ipython",
    "version": 3
   },
   "file_extension": ".py",
   "mimetype": "text/x-python",
   "name": "python",
   "nbconvert_exporter": "python",
   "pygments_lexer": "ipython3",
   "version": "3.10.9"
  }
 },
 "nbformat": 4,
 "nbformat_minor": 5
}
